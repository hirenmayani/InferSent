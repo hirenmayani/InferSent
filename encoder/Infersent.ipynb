{
 "cells": [
  {
   "cell_type": "code",
   "execution_count": 1,
   "metadata": {},
   "outputs": [],
   "source": [
    "# import stuff\n",
    "%load_ext autoreload\n",
    "%autoreload 2\n",
    "%matplotlib inline\n",
    "\n",
    "from random import randint\n",
    "\n",
    "import numpy as np\n",
    "import torch"
   ]
  },
  {
   "cell_type": "markdown",
   "metadata": {},
   "source": [
    "## Load model"
   ]
  },
  {
   "cell_type": "code",
   "execution_count": 2,
   "metadata": {},
   "outputs": [],
   "source": [
    "# Load model\n",
    "from models import InferSent\n",
    "model_version = 1\n",
    "MODEL_PATH = \"../encoder/infersent%s.pkl\" % model_version\n",
    "params_model = {'bsize': 64, 'word_emb_dim': 300, 'enc_lstm_dim': 2048,\n",
    "                'pool_type': 'max', 'dpout_model': 0.0, 'version': model_version}\n",
    "model = InferSent(params_model)\n",
    "model.load_state_dict(torch.load(MODEL_PATH))"
   ]
  },
  {
   "cell_type": "code",
   "execution_count": 3,
   "metadata": {},
   "outputs": [],
   "source": [
    "# Keep it on CPU or put it on GPU\n",
    "use_cuda = False\n",
    "model = model.cuda() if use_cuda else model"
   ]
  },
  {
   "cell_type": "code",
   "execution_count": 4,
   "metadata": {},
   "outputs": [],
   "source": [
    "# If infersent1 -> use GloVe embeddings. If infersent2 -> use InferSent embeddings.\n",
    "W2V_PATH = '/Volumes/10/NLP/data/glove/glove.840B.300d.txt' if model_version == 1 else '../dataset/fastText/crawl-300d-2M.vec'\n",
    "model.set_w2v_path(W2V_PATH)"
   ]
  },
  {
   "cell_type": "code",
   "execution_count": 5,
   "metadata": {},
   "outputs": [
    {
     "name": "stdout",
     "output_type": "stream",
     "text": [
      "Vocab size : 100000\n"
     ]
    }
   ],
   "source": [
    "# Load embeddings of K most frequent words\n",
    "#model.build_vocab_k_words(K=100000)\n",
    "#model.build_vocab(data.values(), tokenize=True)"
   ]
  },
  {
   "cell_type": "markdown",
   "metadata": {},
   "source": [
    "## Load sentences"
   ]
  },
  {
   "cell_type": "code",
   "execution_count": 21,
   "metadata": {
    "scrolled": false
   },
   "outputs": [],
   "source": [
    "data ={\"Introduction\":\"The State University of New York at Stony Brook, commonly known as Stony Brook University (SBU) or SUNY Stony Brook, is a public sea-grant and space-grant research university in Stony Brook, New York. It is part of the State University of New York (SUNY) system.The institution was founded 61 years ago in 1957 in Oyster Bay as State University College on Long Island, and moved to Stony Brook in 1962. The university has expanded to include approximately 220 major buildings with a combined area of more than 12.2 million gross square feet across 1,454 acres (5.9 km2) of land. In 2001, Stony Brook was elected to the Association of American Universities, joining four private universities (Cornell, Columbia, NYU, and Rochester) and one public university (SUNY Buffalo) elsewhere in its state. It is also a member of the larger Universities Research Association.The university's health science and medical component, collectively referred to as Stony Brook Medicine, includes the Schools of Medicine, Dental Medicine, Nursing, Health Technology and Management, Pharmacy and Pharmaceutical Sciences, and Social Welfare, as well as the Hospital, major centers and institutes, programs, clinics and community-based healthcare settings, and the Long Island State Veterans Home. Stony Brook University, part of the management team of Brookhaven National Laboratory – a national laboratory of the United States Department of Energy – acquired land for a Research & Development Park adjacent to its main campus in 2004, and has four business incubators across the region. The university's impact on the Long Island economy amounts to $7.38 billion in increased output, and research expenditures have surpassed the $230 million mark annually.Stony Brook is the largest single-site employer on Long Island; more than 26,000 students are enrolled at the university, which has over 15,000 employees and over 2,700 faculty.Stony Brook's intercollegiate athletic teams are the Seawolves. Since 1994, they have competed in Division I of the NCAA, and are members of the America East Conference and the Colonial Athletic Association.\",\\\n",
    "\"History\":\"The State University of New York at Stony Brook was established in Oyster Bay in 1957 as the State University College on Long Island (SUCOLI), by the governor and state of New York. Established almost a decade after the creation of New York's public higher education system, the institution was envisioned as a college for the preparation of secondary school teachers.Leonard K. Olson was appointed as the first dean of the institutionand was instrumental in the recruitment of faculty staff and planning of the later Stony Brook campus. SUCOLI opened with an inaugural class of 148 students,on the grounds of the William Robertson Coe Planting Fields estate. These first students were admitted on a tuition-free basis.1961 was a year of firsts as thirty students were conferred degrees in the first commencement and the University was appointed its first president, John Francis Lee,. Lee left later that year due to political and bureaucratic matters regarding the future of the University and the central administration at Albany. Nevertheless, Lee fulfilled his primary task of reshaping the university from a technical science and engineering college of limited degree options to a full-scale university featuring liberal arts programs.=== Move to Stony Brook ===In 1960 the Heald Report, commissioned by Governor Nelson Rockefeller, recommended a major new public university be built on Long Island to 'stand with the finest in the country', a report that would ultimately shape most of the University's growth for years to come.Ward Melville, a philanthropist and businessman from the Three Village area in western Suffolk County donated over 400 acres of land to the state for the development of a state university and in 1962 the institution relocated to Stony Brook and officially renamed as the State University of New York at Stony Brook. However, the name has fallen out of favor, and since 2005, has been replaced with simply Stony Brook University (SBU).The campus had 782 students enrolled in 1962, but enrollment had increased more than tenfold by 1969, surpassing the 8,000 mark, fueled by the large funding of public higher education in the Sputnik era. In 1963, only three years after the release of the Heald Report, the Governor commissioned the 'Education of Health Professions' (Muir Report) report. The report outlined the need for expansion of the university system to prepare medical professionals for the future needs of the state. The report was particularly important for Stony Brook as it recommended creation of a Health Science Center and academic hospital at the campus to serve the need of the fastest-growing counties (Nassau and Suffolk) in New York at the time.=== Growth ===In 1965, the State University appointed John S. Toll, a renowned physicist from the University of Maryland as the second president of Stony Brook. In 1966, the University set forth initial timetables for the development of the Health Science Center, which would house the University's health programs and hospital. Despite the budgetary concerns and challenges from Albany, the University released a formalized plan early in 1968 and funding for recruitment of faculty was provided. At the same time, residential housing was expanded to 3,000, the Stony Brook Union opened in 1970, and in 1971, the massive expansion project for the campus library (named in memory of Frank Melville Jr., father of philanthropist Ward Melville) was completed.Despite the fast-paced growth, campus infrastructure often struggled to keep pace: overcrowding, expansion, landscaping, lighting, and safety were persistent problems at the University, which led to multiple protests and growing tension between the student body and the administration. In January 1968, the infamous “Operation Stony Brook” drug raid resulted in the arrest of twenty nine students and in the fall of 1968, tension climaxed as the administration and students decided on a three-day moratorium to bring together the entire university with the goal of improving communication between the students, faculty, and administration. Despite the initiatives of the “Three Days” in improving the campus, in February 1973, a tragedy occurred when a freshman student fell to his death into one of the many uncovered steam pipe manholes at the University.The 1970s witnessed the growth of the University and its transformation as a major research institution of the SUNY system with strong graduate programs and scientific breakthroughs like development of magnetic resonance imaging. But the University lagged significantly in undergraduate education, prioritizing graduate education and research over undergraduate studies and student life. By 1975, enrollment had reached 16,000 and expansion crossed over Nicolls Road with the construction of the Health Science Center, which would be completed in 1980.In 1981, John Marburger was inaugurated as the third president of the University and continued the expansion of the institution. By the late 1980s, the administration affirmed the need to improve other areas of the institution, which included undergraduate education, student and residential life, and intercollegiate athletics. The University approved a decision to transition athletics to the Division I of the NCAA and followed with the construction of the Stony Brook Arena and the expansion of the Indoor Sports Complex.=== Recent developments ===The 1990s affirmed Stony Brook's success at building a research university with a strong undergraduate education. Under the leadership of its fourth president, Shirley Strum Kenny, the administration sought out to showcase the value of the institution. Kenny was responsible for campus wide improvement projects which included large scale landscaping, renovations of every residence hall, the continued growth of the athletics programs, the improvement of student life, ever increasing research expenditures, a branding/marketing campaign, and the University's increasing ties with private philanthropy.In 1998, the University became one of the top 100 of American research universities in the U.S. News & World Report, and its relatively affordable tuition placed it among the best values among universities in the nation. That same year, the University and Battelle Memorial Institute were chosen by the Department of Energy as joint operators of the Brookhaven National Laboratories, joining a selective group of universities that operated national laboratories across the nation. Enrollment reached the 20,000 mark in 2001, and the administration's improvement efforts climaxed with the invitation to the highly selective Association of American Universities, an organization of sixty-two universities across North America committed to a strong system of research and education, becoming only the third public university in the northeast to receive such invitation (Buffalo and Rutgers admitted in 1989).2002 saw the opening of the $22 million Kenneth P. LaValle Stadium and the inauguration of the massive Charles B. Wang Center dedicated to Asian and American culture, funded by a $50 million donation from Charles B. Wang. At the time, it was the largest private donation to a SUNY institution. In 2003, chemistry professor Paul Lauterbur received a Nobel Prize in Physiology or Medicine for his research and discovery of Nuclear Magnetic Resonance, which was instrumental in the development of NMR Imaging (MRI) while at Stony Brook. In 2005, the University bought the Flowerfield property adjacent to campus through eminent domain as land for the development of a Research and Development Park. Plans for a law school were in the talks but scrapped shortly after.In 2009, president Shirley Strum Kenny stepped down, and in May, Dr. Samuel Stanley Jr was announced as Stony Brook's fifth president. The late 2000s saw the University receive historic philanthropic donations. Hedge funder Jim Simons made multiple multi-million donations, including a $25 million donation to the Stony Brook Foundation in 2006, a $60 million donation for the development of the Simons Center for Geometry and Physics in 2008, and a landmark $150 million donation to the University in 2011. Other major donations were provided by alumni Joe Nathan, Stuart Goldstein, and Glenn Dubin for major renovation of athletic facilities. In 2010 Stanley announced Project 50 Forward, a comprehensive plan for the development of the University in the next fifty years with a focus on “operational excellence, academic greatness, and building for the future.'In 2012, the $40 million Walter J. Hawrys Campus Recreation Center opened, soon followed by the on-campus Hilton Garden Inn in May 2013. Frey Hall, named after alumnus Dr. Robert Frey, opened in 2013 after undergoing renovations as the former Old Chemistry building. The Stony Brook University Arena underwent a $21 million overhaul, re-opening as the Island Federal Arena in 2014. In July 2015, a new $40.8 million Computer Science building opened, spanning 70,000 square feet. New dormitories, known as Chavez Hall and Tubman Hall, along with a new East Side Dining hall, opened in the fall of 2016. In January 2019, Stony Brook Medicine is set to open their $194 million cancer center to the public.Current projects include the renovation of the Stony Brook Union, a new $100 million engineering and applied sciences building and an on-campus housing complex.In 2018, Stony Brook received its best ranking yet in the U.S. News & World Report, at 80th in the United States.\",\\\n",
    "\"Campus\":\"The main campus is in the historic north shore hamlet of Stony Brook near the geographic midpoint of Long Island, approximately 50 miles (80 km) east of Manhattan and 67 miles (108 km) west of Montauk. Bounded to the north by New York State Route 25A (North Country Road) the campus is subdivided into 'West Campus' and 'East Campus' by the thoroughfare County Road 97 (Nicolls Road). The Ashley Schiff Forest Preserve separates the South Campus from West Campus. The Long Island Rail Road serves the community with the Stony Brook Station situated along the northern edge of the campus.==== West ====The west campus is the center of the academic life of the university. It houses the majority of academic, athletic, and undergraduate student housing facilities while also being the original site of the university.The modern campus is centered around the academic mall which stretches for more than a quarter of a mile from the Simons Center for Geometry and Physics in the west end to the Administration Building in the east end. The academic mall includes the Student Activity Center, Frank Melville Jr. Memorial Library, Staller Center for the Arts, Humanities, Psychology A & B, Harriman Hall, Frey Hall (previously known as Old Chemistry), the Earth and Space Science, Mathematics, and Physics facilities. Short distances from the mall are the Engineering Quad home to the Engineering, Light Engineering, Heavy Engineering, and Computing Center facilities. The Life Science Complex, Javits Lecture Center, Social Behavioral Sciences, Computer Science, and Student Union facilities are also on the west campus. Among the latest additions to the campus is the Simons Center for Geometry and Physics, the new Walter J. Hawrys Campus Recreation Center, the Hilton Garden Inn hotel, Frey Hall, and a new Computer Science building. The Staller Center which contains the largest movie screen in Long Island's Suffolk County holds the annual Stony Brook Film Festival.The athletic facilities are in the northwest quadrant of west campus which include the Stony Brook Sports Complex, Stony Brook University Arena, Kenneth P. LaValle Stadium, Joe Nathan Field, University Track, and University Field.==== South ====The South Campus is about half a mile south of the academic mall and separated from West Campus by the Ashley Schiff Forest Preserve. It is home to the School of Dental Medicine, the School of Marine and Atmospheric Sciences (SoMAS), the Cody Center for Autism and Developmental Disabilities, and the University Police headquarters.==== Research and Development ====The Research and Development Park is on Stony Brook Road, a mile from the center of campus. On November 3, 2005, the University announced it had formally acquired 246 acres (1.00 km2) of the adjacent Flowerfield property, originally owned by the St. James Gyrodyne Company of America, through eminent domain, three years after the University had expressed its desire to acquire the property.Stony Brook is using this property as a Research and Development Park, similar to other university-affiliated science parks around the country. The campus will ultimately house ten new buildings. The first building, the Center of Excellence in Wireless and Information Technology, was completed in October 2008. Construction for the Advanced Energy Research and Technology Center, designed by Flad Architects, commenced in the Summer of 2008 and is open as of spring 2010.==== East ====The East Campus is separated from the main campus by Nicolls Road (County Road 97). It is home to the Stony Brook University Hospital and the Health Science Center. Stony Brook University Hospital, completed in 1980, is Suffolk County's only tertiary hospital and Level 1 Trauma Center, and the only academic medical center in Suffolk County—larger also than any in Nassau County.The hospital is the largest in Suffolk County, and the attached Health Sciences Center (HSC) and Basic Science Tower (BST) houses numerous laboratories, the School of Medicine, the nursing school, and numerous Allied Health programs.Also in the east side of campus are the Chapin apartments which provide housing for graduate students. The Long Island High Technology Incubator, one of the four business incubators of the University, is a short walk north of the hospital. Directly south of the Hospital lies the Stony Brook Cancer Center and Ambulatory Surgery Center. The Stony Brook Children's hospital can also be found on the East Campus. In late 2013 Stony Brook announced the construction of the $194 million Medical and Research Translational Building which will be in the East Campus. The Long Island State Veterans Home serving the Long Island veteran community is in this part of campus.=== Manhattan Campus ===In 2002, the University established a presence in Manhattan with the opening of Stony Brook Manhattan. The original site was at 401 Park Avenue South; a newer operation opened in late 2008 in the adjacent building on the third floor of 387 Park Avenue South. The University consolidated operations in 2011 to just the 3rd floor of 387 Park Avenue South, with a classroom entrance around the corner at 101 East 27th Street. The 18,000-square-foot (1,700 m2) site allows Stony Brook to offer professional and graduate courses targeted towards students in New York City; undergraduate courses are held primarily during the summer and winter sessions. Conferences and special events take place throughout the year. In February 2017 however, the lease for this campus was terminated, and there are no classes offered at this location.=== Southampton Campus ===On March 24, 2006, the University completed the purchase of the 81-acre (330,000 m2) Southampton College (on the east end of Long Island) property from Long Island University with the intent to develop it as a full college campus focusing on academic programs related to the environment and sustainability. Stony Brook expanded its original program, started in the fall of 2005, when it offered an undergraduate marine sciences program, with teaching and research facilities at the campus leased from Long Island University. An enrollment of about 2,000 students is expected within the next five years. Professor Martin Schoonen was appointed interim dean of Southampton campus on August 3, 2006, and conservationist Mary Pearl was appointed dean and vice president in March 2009.On April 7, 2010, the University had suspended residential programs and transferred sustainability programs to the main campus. The change was prompted by severe state budget cuts. Although the Marine Sciences and Graduate Writing programs are still in session at Southampton, undergraduates were relocated to the main campus. As a result of the suspension of residential programs, all dining services and retail operations were suspended by the Faculty Student Association. The old LIU radio station and National Public Radio affiliate no longer operate on the campus.In September 2011 Stony Brook Southampton began offering an undergraduate program called Semester by the Sea, where students attend undergraduate classes to study the Ocean or the Arts. Students studying the Ocean are immersed in marine topics that are enhanced with close proximity to the water, a fleet of research vessels and graduate research projects that are ongoing. Students studying the Arts are engaged in studies for filmmaking and creative writing who interract with Master's of Fine Arts students plus notable filmmakers and authors being part of the cultural legacy of the Hamptons.  Both programs offer a Public Lecture Series which connect highly prestigious scientists and writers with the community.As of 2015, the Stony Brook Southampton campus has shown growth, despite almost being closed down in 2010. Programs had been added back and the Board of Trustees of the State University of New York approved a long-awaited partnership agreement between Southampton and Stony Brook University hospitals. Enrollment increased to over 400, after being around 175, three years following the addition of new funding.=== South Korea ===In May 2009, the SUNY board of trustees granted Dr. Samuel Stanley Jr., authority to conduct negotiation measures towards a partnership campus between Stony Brook and the South Korean government. Stony Brook would be joining other universities in a univerCITY complex, potentially involving other schools such as North Carolina State University, George Mason, Carnegie Mellon, Johns Hopkins, and Boston University. The campus would be a global university with intentions to offer a diverse learning environment while at the same time stimulating the economy of South Korea.In July 2011, President Samuel Stanley Jr., announced that the Ministry of Education, Science and Technology in South Korea has approved the establishment of SUNY Korea as part of Songdo International Business District in Incheon. The campus was expected to begin academic programs in March 2012 with an enrollment of 200.=== Art on Campus ===Stony Brook University has four Gallery spaces on campus. As was the desire of donor Paul W. Zuccaire, the Paul W. Zuccaire Gallery, formerly known as the University Art Gallery, is dedicated to the promotion and support of the arts and showcases professional exhibitions as well as annual graduate and undergraduate student works. The Paul W. Zuccaire Gallery is in the Staller Center for the Arts.Also on campus is the Latin American and Caribbean Studies Center's Art Gallery, which features works from Latino and Latin American artists as well as local artists who fall under that category. The SAC Art Gallery is a center for interactive and participatory art projects. Students, faculty, staff and alumni can directly participate in projects that take place in this gallery.The Tabler Center for Arts, Culture, and Humanities includes an art gallery and blackbox theater performance space.The Simons Center for Geometry and Physics includes an art gallery as well.\" ,\\\n",
    "\"Organization and admin\":\"The Stony Brook University consists of a main campus in Stony Brook, and additional satellite campuses in Southampton and South Korea. The university is composed of twelve schools and colleges. By enrollment, the largest college or school is the College of Arts and Science.The University is governed by the State University of New York board of trustees: a body of eighteen members which regulate all the individual units of the SUNY system. The trustees have the authority to appoint the president of each state-operated institution, grant all degree diplomas and certificates for the completion of studies at any state-operated campus, and regulation of admissions, tuition, curricula, and all other matters pertaining to the operation and administration of each state-operated campus.  The president of Stony Brook is the principal executive officer of the University. The position was first held by John Francis Lee and is held by the fifth president in the institution's history, Dr. Samuel Stanley Jr, who has served since May 2009.=== Endowment ===Stony Brook's financial endowment is managed by the Stony Brook Foundation. The foundation was established in 1965 as a not-for-profit corporation under the New York State Education Law. Chartered to collect and manage gifts from private and non-state resources to supplement the funding of the University and managed by a voluntary Board of Trustees. Donations can be made to a wide selection of funds which benefit different areas of the University. In 2012 the endowment was valued at approximately $125 million with total assets amounting to nearly $350 million and has fully recovered from the losses endured in the 2008 economic downturn. After a strong fundraising campaign led by Jim Simon's $150 million donation, the University amounted to more than $180 million in fundraising for the 2011-12 year and raised $200 million by March 2013. It is the second largest endowment among State University of New York university centers behind the University at Buffalo. However, the university's endowment remains far below the average of its Association of American Universities peers.=== Student government ===Housed in the Student Activity Center, the Undergraduate Student Government (USG) is the governing body representing the undergraduate students of the University. The main functions of USG involve regulation, funding, and recognizing official clubs and organizations of the University. Undergraduate students are obligated to pay a Student Activity Fee per semester which is then administered by the Undergraduate Student Government. USG manages the yearly Homecoming events, Roth Pond Regatta and the traditional end-of-the year Brookfest concert and a series of concerts and events branded as “Stony Brook Concerts” that occur throughout the academic year while also directly funding undergraduate organizations, clubs, and other student services. USG at Stony Brook has a long history going back to the founding of the Student Polity Association (Polity) in 1959. After the controversial de-certification of Polity by the administration in 2002, USG was founded in 2003.Like USG, the Graduate Student Organization (GSO) is the governing body representing the graduate students of the University. The GSO advocates for graduate student interests to senior university administration, and is part of shared governance at the university. Graduate students pay a per-semester activity fee which is used to fund events and programs for the Graduate community. The GSO provides services for graduate students including funding for conferences, seminars, speaker events, travel to Brookhaven and Coldspring Harbor Laboratories, funding for social events, departmental organizations, and student clubs. The GSO hosts social events, professional development programming, and free legal and tax clinics. Traditional events hosted by the GSO include graduate student orientation, Three Minute Thesis, an annual speaker event, and national conferences. The GSO co-manages the University Cafe. GSO executive board members partake in national advocacy, and work with organizations such as the NAGPS on advocating for higher education policy issues.\",\\\n",
    "\"Academics\":\"Stony Brook was one of ten national universities awarded a National Science Foundation recognition award in 1998 for their integration of research and education. In 2001 it became a member of the Association of American Universities (AAU), an invitation-only organization of the top research universities in the U.S. that has 62 members. In the last three years two Nobel Prizes were awarded to professors for their work conducted at Stony Brook. The University has an annual $4.65 billion economic impact on the region. Stony Brook co-manages Brookhaven National Laboratory through Brookhaven Science Associates, a 50-50 partnership with Battelle Memorial Institute. Stony Brook is also one of two public schools in New York to have a medical school and a dental school, the other being University at Buffalo, The State University of New York.=== Tuition ===For the 2013-14 academic year, annual undergraduate tuition is $5,870, about 70% of the AAU mean of $11,328 when including mandatory fees, for in-state students and $17,810, approximately 67% of the AAU mean of $29,700 when including fees, for out-of-state students. Mandatory fees for all matriculated undergraduate students totaled  $2,130 (included in the AAU calculation above). For graduate level education the tuition ranges from $7,398 to $19,550 for in-state students and $13,770 to $35,440 for out-of-state students depending on program and/or credit hours per semester. Stony Brook tuition is rising approximately $300 yearly, or 5% yearly for the next five years for in-state students and 10% yearly rise for out-of-state students after the passage of the SUNY 2020 legislation for rational tuition increases in 2011.=== Student body ===In Fall 2013, the university had an enrollment of 24,259 students: 16,107 undergraduate students, 7,340 academic degree-seeking graduate students, and 668 first professional students. Of all students, 20,502 (85 percent) are U.S. citizens or permanent residents representing all states of the United States and 3,757 (15 percent) are international students representing over a hundred countries around the world.Forty-seven percent of the student body reside in Nassau or Suffolk county, while 22 percent reside in New York City. Ten percent of the student population comes from counties north of New York City, while only 7 percent reside in other states of the United States. Stony Brook has a sizable international community amounting to 14% of the student body.=== Rankings ===In 2018, U.S. News & World Report ranked Stony Brook University as 80th overall among national universities and 32nd among public universities. In 2015, Kiplinger's Personal Finance ranked Stony Brook 33rd best value among the country's public institutions for in-state students, and 26th for out-of-state students. In 2012, The Wall Street Journal ranked Stony Brook 8th amongst public universities sending students to elite graduate programs.As of  2016, U.S. News & World Report has given the following rankings to graduate programs at Stony Brook:The School of Engineering is ranked 67th, the School of Social Work is ranked 71st, the School of Medicine is ranked 59th in Research and a 'Rank Not Published' in Primary Care nationally, placing Stony Brook in the bottom 25 percent of schools ranked.Nuclear Physics (categorized as a Physics specialty) ranked 4th; Geometry (categorized as a Mathematics specialty) ranked 4th; Clinical Psychology ranked 4th; Topology (categorized as a Mathematics specialty) ranked 11th; Physician's Assistant program ranked 16th; Physics ranked 23rd; Midwifery ranked 23rd; Mathematics ranked 25th; Political Science ranked 29th; Earth Science ranked 34th; Materials Science (categorized as an Engineering specialty) ranked 37th; Psychology ranked 39th; Sociology ranked 40th; Computer Science ranked 40th; Occupational Therapy ranked 44th; Biological Sciences ranked 55th; Chemistry ranked 56th; English ranked 60th; Economics ranked 63rd; History ranked 63rd; Physical Therapy ranked 64th; and Fine Arts ranked 98th.Another source, College Factual's 2015 survey, ranked Stony Brook University's Applied Mathematics program as 3rd best in the United States. As of 2017, Academic Rankings of World Universities ranked Stony Brook's Mathematics program 13th best worldwide, outperforming Ivy League institutions like Harvard, Columbia, and Brown.=== Research ===The School of Marine and Atmospheric Sciences (SoMAS) is the SUNY center for marine and atmospheric research, education, and public service. More than 300 graduate and undergraduate students from 16 different nations work and study at SoMAS. The School's students study coastal oceanographic processes and atmospheric sciences in a natural and academic setting that offers abundant opportunities for conducting field work, solving real problems in both local and distant environments, and learning to express their opinions in the weekly seminars. The Marine Sciences Research Center, the original institute for marine studies, was incorporated into the new School of Marine and Atmospheric Sciences (SOMAS) on June 15, 2007.Also, the University co-manages Brookhaven National Laboratory, joining an elite group of universities – including the University of California, University of Chicago, Cornell, MIT, and Princeton University – that run federal laboratories. In the Physical Sciences, Mathematics and Engineering area, some of the research centers of Stony Brook University are the Institute for Mathematical Sciences, the Institute for Advanced Computational Science, and the C. N. Yang Institute for Theoretical Physics among others. In the biomedical sciences, Stony Brook houses the Center for Biotechnology and the Institute of Chemical Biology and Drug Discovery, among many others. In March 2008, the University received $60 million endowment from James Simons to establish the Simons Center for Geometry and Physics. The Louis and Beatrice Laufer Center for Physical and Quantitative Biology was established by a generous gift in 2008 from Dr. Henry Laufer.In July 2007 Stony Brook won a grant from the Department of Defense to devise ways to prevent terrorists from corrupting computers, and another from the Department of Homeland Security to design a system to detect radiation without triggering false alarms.The New York Center for Computational Sciences (NYCCS), formed in 2007, is a joint venture of Stony Brook University and Brookhaven National Laboratory.Its centerpiece is an 18 rack Blue Gene /L and 2 rack Blue Gene/P massively parallel supercomputerbased on the IBM system-on-chip technology, also known as New York Blue Gene supercomputer. In the June 2008 Top 500 supercomputer rankings New York Blue Gene/L was ranked 17th, and Blue Gene/P was ranked 75th. The total peak performance for both Blue Gene/L and Blue Gene/P consists 103.22 teraflops (trillion floating-point calculations per second).In 2016, Stony Brook University placed second at the Long Island regional round of the New York State Business Plan Competition. New York Institute of Technology placed first with four teams qualifying for the state competition's final round, while Stony Brook University had three teams qualifying for the state competition's final round.==== Notable research and discoveries ====There have been many notable research projects and important scientific discoveries at Stony Brook.=== Admissions ===In 2016, 40.7% of applications were accepted, with a total enrollment of 26,323.Academic Profile of middle 50% of enrolling freshmen (As of 2017)GPA: 91-97 (100-point scale), 3.6-4.0 (4-point scale)38% in top ten percent of graduating class72% in top quarter of graduating class95% in top half of graduating classSAT: 1240-1380ACT: 26-31The middle 50% of the 2013 enrolled freshmen had the following score ranges:SAT Math: 610-710SAT Critical Reading: 560-650SAT Writing: 550-650ACT: 26-30The average SAT score for the class of 2014 was 1251 out of 1600.\",\\\n",
    "\"Student Life\":\"Stony Brook has a wide variety of student-run organizations on campus, which include sororities and fraternities, and a count of almost 300 recognized student clubs and organizations. The Undergraduate Student Government at Stony Brook University is trusted with the responsibility of budgeting the undergraduate student activity fee which funds most student run organizations on campus. The Graduate Student Organization is responsible for budgeting the graduate student activity fee, and supplies a variety of funding opportunities, programming, student services, and funding for departmental and student organizations.The oldest campus newspaper is The Statesman, which was founded in 1957 when the university was in Oyster Bay. Other publications include the Stony Brook Press, Stony Brook Independent, Blackworld, and the Asian American E-Zine. Stony Brook also has a campus-wide public radio station, WUSB, which serves most of Long Island and dedicates programming to Stony Brook athletics and other events on campus.The school has a high commuter population, and a strong student-commuter community. Approximately 55% of the student population lives on campus.=== Events ===At the start of the fall semester the campus takes part in Chillfest, a month-long set of events and activities across campus.  This is also done in the beginning of the spring semester, with events like Seawolves Basketball, comedy shows, performances at the Staller Center, and films. Homecoming usually takes place about midway through the college football season and has gained popularity in recent years.One popular event is the yearly Roth Pond Regatta, which often attracts dozens of competitors and hundreds of attendees, including students, faculty, staff, and alumni. The competition involves groups making boats out of cardboard and tape, with the challenge to get across the Roth Pond first without sinking. 2011 marked the first year the regatta was coupled with a concert. The 2011 concert was attended at capacity at nearly 4000 individuals, and was headlined by Bruno Mars and Janelle Monáe. The 2012 concert featured Wiz Khalifa and Miguel, with Ludacris and Diplo entertaining students in 2013 and 2014, respectively.The Stony Brook Concert Series was revived in the 2010-11 academic year. SBC previously brought world renowned rock bands like Frank Zappa, Jimi Hendrix, Janice Joplin, Grateful Dead, Pink Floyd, the Allman Brothers and many other artists to play on campus in the early years of Stony Brook.Weekly, throughout the academic year on Wednesdays, there is a period of two hours referred to as Campus Life Time in which events often take place in the academic mall for students, and no classes are in session. Among other popular traditions at Stony Brook is the yearly Strawberry Fest in which students gather at the academic mall to enjoy a wide array of strawberry treats combined with live music performances often held in the last week of April at Campus Life Time.RockYoFaceCase series takes place on Mondays every other week in the University Café in which local bands from the regional underground scene are brought to play on campus. The campus also hosts many lectures as part of the Provost Lecture Series. Personalities like Daniel Ellsberg and Ralph Nader have lectured at the university. Other popular events are the Earthstock and Shirley Strum Kenny Students Art Festival, the former promoting environmentally friendly living in a week-long festival with series lectures, displays, and concerts across the Academic Mall. Since, Fall 2011 the Undergraduate Student Government has sponsored a week long Human Vs Zombies game each semester which has proved to be popular at campus with many participants.The Staller Center for the Arts is home to the Stony Brook Film Festival which takes place yearly in the summer. Also, the Emerson String Quartet, a quartet who also contribute to the Department of Music perform multiple times a year. In front of the Staller Center, the Staller steps serve as a gathering place throughout the spring for many students wishing to socialize.=== The Spirit of Stony Brook Marching Band ===The Spirit of Stony Brook University Marching Band was created in 2006 and plays at athletic games and other events. The first public performance was at the September 2006 convocation.  The band grew to 70 members the second year and added additional staff. The band first traveled to the America East Men's Basketball Tournament in March 2007 and has done so regularly ever since. By July 2008, the band had reached 100 members.The Stony Brook Marching Band first participated in the NYC Columbus Day Parade in 2011, as well as appeared in an episode of Extreme Makeover: Home Edition and a commercial for the New York Lottery, furthering their exposure state and nationwide.\",\\\n",
    "\"Athletic\":\"Stony Brook University's intercollegiate athletics teams, known as the Stony Brook Seawolves, compete in the National Collegiate Athletic Association (NCAA) at the Division I level and are members of the America East Conference for all sports with the exception of football, which plays in the Football Championship Subdivision's Colonial Athletic Association. The school's current Director of Athletics is Shawn Heilbron, who was hired in May 2014 after serving as Senior Associate Athletic Director for Development at Oregon State University.The university's athletics teams were originally known as the Soundmen or the Baymen in the early 1950s when the campus was located in Oyster Bay. Their name was changed to the Warriors in 1960, and again to the Patriots and Lady Patriots in 1966. In 1994, as Stony Brook prepared to become a Division I program, the team nickname was changed again, this time to its current day incarnation, the Seawolves. The team's mascot is named Wolfie. Stony Brook games are announced by Josh Caray, grandson of famed broadcaster Harry Caray and son of Skip Caray.The Stony Brook Patriots participated at the Division III level until 1995, when they moved up to Division II with the ultimate goal of soon reaching Division I. On June 3, 1997, President Shirley Kenny announced that the Seawolves' entire athletics program would play at the Division I level beginning during the 1999–00 season. In recent years, Stony Brook's athletic facilities have undergone several additions and renovations. The Goldstein Family Student-Athlete Development Center opened in 2006 after a million-dollar donation by alumnus Stuart Goldstein. In 2011, Joe Nathan Field, dedicated to six-time MLB All-Star relief pitcher and Stony Brook alumnus Joe Nathan, opened after renovations to the former University Field were made possible by Nathan's $500,000 donation. Island Federal Arena, formerly known as the Stony Brook University Arena, opened in 2014 after a two-year, $21.1 million renovation. The Pritchard Gymnasium, current home of the volleyball team and former home of the men's and women's basketball teams, underwent a $1.5 million renovation in 2008. Alumnus Glenn Dubin donated $4.3 million to a strength and conditioning facility named the Dubin Family Athletic Performance Center, which opened in 2012. The Dubin family also pledged $5 million for a $10 million for the Dubin Family Indoor Training Center, set to open in early 2019.Stony Brook garnered national attention during their 2012 College World Series run. The Seawolves upset the LSU Tigers in a three-game series to win the Baton Rouge Super Regional and reach the College World Series in Omaha, the first America East team to do so. Coach Matt Senk was awarded the National College Baseball Writers Association's Coach of the Year award. Outfielder Travis Jankowski was drafted by the San Diego Padres in the first round of the 2012 MLB Draft.After going winless in four consecutive America East Finals in men's basketball, the Seawolves earned their first bid to the NCAA Tournament in 2016 by defeating the Vermont Catamounts 80–74. They lost to Kentucky in the first round of the NCAA Tournament by a score of 85–57.Stony Brook has established itself as a dominant force in women's lacrosse. Since 2013, the Seawolves have finished in first place in the America East for six straight seasons, making six consecutive NCAA Division I Women's Lacrosse Championship tournaments. During the 2018 season, the Seawolves were ranked No. 1 nationally in all three major polls (IWLCA Coaches' Poll, Cascade/Inside Lacrosse, Nike/US Lacrosse) for at least ten weeks.\",\\\n",
    "\"Transportation\":\"In 2013, Stony Brook University launched its own bike share system to provide a sustainable transportation alternative for students (Wolf Ride Bike Share). In 2016, the university provides 8 stations and 63 bikes.Docking stations and bikes are supplied by PBSC Urban Solutions.The university is next to the Stony Brook LIRR station on the Port Jefferson Line.Suffolk County Transit connection S60/S69 and 3D is available on campus.\"}\n"
   ]
  },
  {
   "cell_type": "code",
   "execution_count": 34,
   "metadata": {},
   "outputs": [],
   "source": [
    "def formatSentences(data):\n",
    "    #sbu = sbu.content.replace(\"\\n\",'')\n",
    "    \n",
    "    #from spacy.en import English\n",
    "    import spacy\n",
    "    #nlp = English()\n",
    "    nlp = spacy.load('en')\n",
    "    doc = nlp(data)\n",
    "    sentencesT = [sent.string.strip() for sent in doc.sents]\n",
    "    \n",
    "    sentences = []\n",
    "    for ss in sentencesT:\n",
    "        for s in ss.split('\\n'):\n",
    "            if len(s)>3:\n",
    "                if s[0] == '=' or s[-1] == '=' or len(s.split(' ')) < 4:\n",
    "                    pass\n",
    "                else:\n",
    "                    sentences.append(s)\n",
    "        \n",
    "    return sentences"
   ]
  },
  {
   "cell_type": "code",
   "execution_count": 35,
   "metadata": {},
   "outputs": [
    {
     "name": "stdout",
     "output_type": "stream",
     "text": [
      "Found 1927(/2032) words with w2v vectors\n",
      "Vocab size : 1927\n"
     ]
    }
   ],
   "source": [
    "fullData= \"\"\n",
    "dataList= {}\n",
    "for k,v in data.items():\n",
    "    fullData += v\n",
    "    dataList[k]=formatSentences(v)\n",
    "model.build_vocab(data.values(), tokenize=True)    "
   ]
  },
  {
   "cell_type": "markdown",
   "metadata": {},
   "source": [
    "## Encode sentences"
   ]
  },
  {
   "cell_type": "code",
   "execution_count": 14,
   "metadata": {},
   "outputs": [],
   "source": [
    "# gpu mode : >> 1000 sentences/s\n",
    "# cpu mode : ~100 sentences/s"
   ]
  },
  {
   "cell_type": "code",
   "execution_count": 15,
   "metadata": {},
   "outputs": [
    {
     "name": "stdout",
     "output_type": "stream",
     "text": [
      "Nb words kept : 128201/130068 (98.6%)\n",
      "Speed : 64.2 sentences/s (cpu mode, bsize=128)\n",
      "nb sentences encoded : 9815\n"
     ]
    }
   ],
   "source": [
    "embeddings = model.encode(sentences, bsize=128, tokenize=False, verbose=True)\n",
    "print('nb sentences encoded : {0}'.format(len(embeddings)))"
   ]
  },
  {
   "cell_type": "code",
   "execution_count": 38,
   "metadata": {},
   "outputs": [],
   "source": [
    "import collections\n",
    "dataEmbeddings = collections.defaultdict(list)\n",
    "for k,vs in data.items():\n",
    "    for v in vs:\n",
    "        dataEmbeddings[k].append(model.encode(v)[0])\n",
    "    "
   ]
  },
  {
   "cell_type": "code",
   "execution_count": 31,
   "metadata": {},
   "outputs": [
    {
     "name": "stdout",
     "output_type": "stream",
     "text": [
      "0.17415564\n",
      "0.17415564\n",
      "0.17415564\n",
      "0.17415564\n",
      "0.17415564\n",
      "0.17415564\n",
      "0.17415564\n",
      "0.1794154\n",
      "Transportation\n",
      "0.17415564\n",
      "0.17415564\n",
      "0.17415564\n",
      "0.17415564\n",
      "0.17415564\n",
      "0.17415564\n",
      "0.17415564\n",
      "0.1794154\n",
      "Transportation\n",
      "0.17415564\n",
      "0.17415564\n",
      "0.17415564\n",
      "0.17415564\n",
      "0.17415564\n",
      "0.17415564\n",
      "0.17415564\n",
      "0.1794154\n",
      "Transportation\n",
      "0.17415564\n",
      "0.17415564\n",
      "0.17415564\n",
      "0.17415564\n",
      "0.17415564\n",
      "0.17415564\n",
      "0.17415564\n",
      "0.1794154\n",
      "Transportation\n"
     ]
    }
   ],
   "source": [
    "questions = ['when was stony brook university established?', 'who is largest employer in long island?', 'How many employees does university have?', 'when did stony brook university launched bike share system?']\n",
    "correctAns = [\"History\",'Introduction','Introduction',\"Transportation\"]\n",
    "for que in questions:\n",
    "    maxK,maxV = None,None\n",
    "    for k,v in dataEmbeddings.items():\n",
    "        currV = cosine(model.encode(que)[0], v)\n",
    "        if not maxV or currV > maxV:\n",
    "            maxK = k\n",
    "            maxV = currV\n",
    "    \n",
    "    print(maxK)\n"
   ]
  },
  {
   "cell_type": "code",
   "execution_count": 37,
   "metadata": {},
   "outputs": [
    {
     "name": "stdout",
     "output_type": "stream",
     "text": [
      "4096\n"
     ]
    },
    {
     "ename": "KeyboardInterrupt",
     "evalue": "",
     "output_type": "error",
     "traceback": [
      "\u001b[0;31m---------------------------------------------------------------------------\u001b[0m",
      "\u001b[0;31mKeyboardInterrupt\u001b[0m                         Traceback (most recent call last)",
      "\u001b[0;32m<ipython-input-37-ce8c4394ee6b>\u001b[0m in \u001b[0;36m<module>\u001b[0;34m\u001b[0m\n\u001b[1;32m      7\u001b[0m         \u001b[0mprint\u001b[0m\u001b[0;34m(\u001b[0m\u001b[0mlen\u001b[0m\u001b[0;34m(\u001b[0m\u001b[0mvs\u001b[0m\u001b[0;34m)\u001b[0m\u001b[0;34m)\u001b[0m\u001b[0;34m\u001b[0m\u001b[0m\n\u001b[1;32m      8\u001b[0m         \u001b[0;32mfor\u001b[0m \u001b[0mv\u001b[0m \u001b[0;32min\u001b[0m \u001b[0mvs\u001b[0m\u001b[0;34m:\u001b[0m\u001b[0;34m\u001b[0m\u001b[0m\n\u001b[0;32m----> 9\u001b[0;31m             \u001b[0mdists\u001b[0m\u001b[0;34m.\u001b[0m\u001b[0mappend\u001b[0m\u001b[0;34m(\u001b[0m\u001b[0mcosine\u001b[0m\u001b[0;34m(\u001b[0m\u001b[0mmodel\u001b[0m\u001b[0;34m.\u001b[0m\u001b[0mencode\u001b[0m\u001b[0;34m(\u001b[0m\u001b[0mque\u001b[0m\u001b[0;34m)\u001b[0m\u001b[0;34m[\u001b[0m\u001b[0;36m0\u001b[0m\u001b[0;34m]\u001b[0m\u001b[0;34m,\u001b[0m \u001b[0mv\u001b[0m\u001b[0;34m)\u001b[0m\u001b[0;34m)\u001b[0m\u001b[0;34m\u001b[0m\u001b[0m\n\u001b[0m\u001b[1;32m     10\u001b[0m \u001b[0;34m\u001b[0m\u001b[0m\n\u001b[1;32m     11\u001b[0m         \u001b[0mcurrv\u001b[0m\u001b[0;34m=\u001b[0m\u001b[0mreduce\u001b[0m\u001b[0;34m(\u001b[0m\u001b[0;32mlambda\u001b[0m \u001b[0mx\u001b[0m\u001b[0;34m,\u001b[0m \u001b[0my\u001b[0m\u001b[0;34m:\u001b[0m \u001b[0mx\u001b[0m \u001b[0;34m+\u001b[0m \u001b[0my\u001b[0m\u001b[0;34m,\u001b[0m \u001b[0mdists\u001b[0m\u001b[0;34m)\u001b[0m \u001b[0;34m/\u001b[0m \u001b[0mlen\u001b[0m\u001b[0;34m(\u001b[0m\u001b[0mdists\u001b[0m\u001b[0;34m)\u001b[0m\u001b[0;34m\u001b[0m\u001b[0m\n",
      "\u001b[0;32m~/eclipse-workspace/NLP/SBU_QA_System/InferSent/encoder/models.py\u001b[0m in \u001b[0;36mencode\u001b[0;34m(self, sentences, bsize, tokenize, verbose)\u001b[0m\n\u001b[1;32m    222\u001b[0m                 \u001b[0mbatch\u001b[0m \u001b[0;34m=\u001b[0m \u001b[0mbatch\u001b[0m\u001b[0;34m.\u001b[0m\u001b[0mcuda\u001b[0m\u001b[0;34m(\u001b[0m\u001b[0;34m)\u001b[0m\u001b[0;34m\u001b[0m\u001b[0m\n\u001b[1;32m    223\u001b[0m             \u001b[0;32mwith\u001b[0m \u001b[0mtorch\u001b[0m\u001b[0;34m.\u001b[0m\u001b[0mno_grad\u001b[0m\u001b[0;34m(\u001b[0m\u001b[0;34m)\u001b[0m\u001b[0;34m:\u001b[0m\u001b[0;34m\u001b[0m\u001b[0m\n\u001b[0;32m--> 224\u001b[0;31m                 \u001b[0mbatch\u001b[0m \u001b[0;34m=\u001b[0m \u001b[0mself\u001b[0m\u001b[0;34m.\u001b[0m\u001b[0mforward\u001b[0m\u001b[0;34m(\u001b[0m\u001b[0;34m(\u001b[0m\u001b[0mbatch\u001b[0m\u001b[0;34m,\u001b[0m \u001b[0mlengths\u001b[0m\u001b[0;34m[\u001b[0m\u001b[0mstidx\u001b[0m\u001b[0;34m:\u001b[0m\u001b[0mstidx\u001b[0m \u001b[0;34m+\u001b[0m \u001b[0mbsize\u001b[0m\u001b[0;34m]\u001b[0m\u001b[0;34m)\u001b[0m\u001b[0;34m)\u001b[0m\u001b[0;34m.\u001b[0m\u001b[0mdata\u001b[0m\u001b[0;34m.\u001b[0m\u001b[0mcpu\u001b[0m\u001b[0;34m(\u001b[0m\u001b[0;34m)\u001b[0m\u001b[0;34m.\u001b[0m\u001b[0mnumpy\u001b[0m\u001b[0;34m(\u001b[0m\u001b[0;34m)\u001b[0m\u001b[0;34m\u001b[0m\u001b[0m\n\u001b[0m\u001b[1;32m    225\u001b[0m             \u001b[0membeddings\u001b[0m\u001b[0;34m.\u001b[0m\u001b[0mappend\u001b[0m\u001b[0;34m(\u001b[0m\u001b[0mbatch\u001b[0m\u001b[0;34m)\u001b[0m\u001b[0;34m\u001b[0m\u001b[0m\n\u001b[1;32m    226\u001b[0m         \u001b[0membeddings\u001b[0m \u001b[0;34m=\u001b[0m \u001b[0mnp\u001b[0m\u001b[0;34m.\u001b[0m\u001b[0mvstack\u001b[0m\u001b[0;34m(\u001b[0m\u001b[0membeddings\u001b[0m\u001b[0;34m)\u001b[0m\u001b[0;34m\u001b[0m\u001b[0m\n",
      "\u001b[0;32m~/eclipse-workspace/NLP/SBU_QA_System/InferSent/encoder/models.py\u001b[0m in \u001b[0;36mforward\u001b[0;34m(self, sent_tuple)\u001b[0m\n\u001b[1;32m     65\u001b[0m         \u001b[0;31m# Handling padding in Recurrent Networks\u001b[0m\u001b[0;34m\u001b[0m\u001b[0;34m\u001b[0m\u001b[0m\n\u001b[1;32m     66\u001b[0m         \u001b[0msent_packed\u001b[0m \u001b[0;34m=\u001b[0m \u001b[0mnn\u001b[0m\u001b[0;34m.\u001b[0m\u001b[0mutils\u001b[0m\u001b[0;34m.\u001b[0m\u001b[0mrnn\u001b[0m\u001b[0;34m.\u001b[0m\u001b[0mpack_padded_sequence\u001b[0m\u001b[0;34m(\u001b[0m\u001b[0msent\u001b[0m\u001b[0;34m,\u001b[0m \u001b[0msent_len_sorted\u001b[0m\u001b[0;34m)\u001b[0m\u001b[0;34m\u001b[0m\u001b[0m\n\u001b[0;32m---> 67\u001b[0;31m         \u001b[0msent_output\u001b[0m \u001b[0;34m=\u001b[0m \u001b[0mself\u001b[0m\u001b[0;34m.\u001b[0m\u001b[0menc_lstm\u001b[0m\u001b[0;34m(\u001b[0m\u001b[0msent_packed\u001b[0m\u001b[0;34m)\u001b[0m\u001b[0;34m[\u001b[0m\u001b[0;36m0\u001b[0m\u001b[0;34m]\u001b[0m  \u001b[0;31m# seqlen x batch x 2*nhid\u001b[0m\u001b[0;34m\u001b[0m\u001b[0m\n\u001b[0m\u001b[1;32m     68\u001b[0m         \u001b[0msent_output\u001b[0m \u001b[0;34m=\u001b[0m \u001b[0mnn\u001b[0m\u001b[0;34m.\u001b[0m\u001b[0mutils\u001b[0m\u001b[0;34m.\u001b[0m\u001b[0mrnn\u001b[0m\u001b[0;34m.\u001b[0m\u001b[0mpad_packed_sequence\u001b[0m\u001b[0;34m(\u001b[0m\u001b[0msent_output\u001b[0m\u001b[0;34m)\u001b[0m\u001b[0;34m[\u001b[0m\u001b[0;36m0\u001b[0m\u001b[0;34m]\u001b[0m\u001b[0;34m\u001b[0m\u001b[0m\n\u001b[1;32m     69\u001b[0m \u001b[0;34m\u001b[0m\u001b[0m\n",
      "\u001b[0;32m/Library/Frameworks/Python.framework/Versions/3.7/lib/python3.7/site-packages/torch/nn/modules/module.py\u001b[0m in \u001b[0;36m__call__\u001b[0;34m(self, *input, **kwargs)\u001b[0m\n\u001b[1;32m    475\u001b[0m             \u001b[0mresult\u001b[0m \u001b[0;34m=\u001b[0m \u001b[0mself\u001b[0m\u001b[0;34m.\u001b[0m\u001b[0m_slow_forward\u001b[0m\u001b[0;34m(\u001b[0m\u001b[0;34m*\u001b[0m\u001b[0minput\u001b[0m\u001b[0;34m,\u001b[0m \u001b[0;34m**\u001b[0m\u001b[0mkwargs\u001b[0m\u001b[0;34m)\u001b[0m\u001b[0;34m\u001b[0m\u001b[0m\n\u001b[1;32m    476\u001b[0m         \u001b[0;32melse\u001b[0m\u001b[0;34m:\u001b[0m\u001b[0;34m\u001b[0m\u001b[0m\n\u001b[0;32m--> 477\u001b[0;31m             \u001b[0mresult\u001b[0m \u001b[0;34m=\u001b[0m \u001b[0mself\u001b[0m\u001b[0;34m.\u001b[0m\u001b[0mforward\u001b[0m\u001b[0;34m(\u001b[0m\u001b[0;34m*\u001b[0m\u001b[0minput\u001b[0m\u001b[0;34m,\u001b[0m \u001b[0;34m**\u001b[0m\u001b[0mkwargs\u001b[0m\u001b[0;34m)\u001b[0m\u001b[0;34m\u001b[0m\u001b[0m\n\u001b[0m\u001b[1;32m    478\u001b[0m         \u001b[0;32mfor\u001b[0m \u001b[0mhook\u001b[0m \u001b[0;32min\u001b[0m \u001b[0mself\u001b[0m\u001b[0;34m.\u001b[0m\u001b[0m_forward_hooks\u001b[0m\u001b[0;34m.\u001b[0m\u001b[0mvalues\u001b[0m\u001b[0;34m(\u001b[0m\u001b[0;34m)\u001b[0m\u001b[0;34m:\u001b[0m\u001b[0;34m\u001b[0m\u001b[0m\n\u001b[1;32m    479\u001b[0m             \u001b[0mhook_result\u001b[0m \u001b[0;34m=\u001b[0m \u001b[0mhook\u001b[0m\u001b[0;34m(\u001b[0m\u001b[0mself\u001b[0m\u001b[0;34m,\u001b[0m \u001b[0minput\u001b[0m\u001b[0;34m,\u001b[0m \u001b[0mresult\u001b[0m\u001b[0;34m)\u001b[0m\u001b[0;34m\u001b[0m\u001b[0m\n",
      "\u001b[0;32m/Library/Frameworks/Python.framework/Versions/3.7/lib/python3.7/site-packages/torch/nn/modules/rnn.py\u001b[0m in \u001b[0;36mforward\u001b[0;34m(self, input, hx)\u001b[0m\n\u001b[1;32m    190\u001b[0m             \u001b[0mflat_weight\u001b[0m\u001b[0;34m=\u001b[0m\u001b[0mflat_weight\u001b[0m\u001b[0;34m\u001b[0m\u001b[0m\n\u001b[1;32m    191\u001b[0m         )\n\u001b[0;32m--> 192\u001b[0;31m         \u001b[0moutput\u001b[0m\u001b[0;34m,\u001b[0m \u001b[0mhidden\u001b[0m \u001b[0;34m=\u001b[0m \u001b[0mfunc\u001b[0m\u001b[0;34m(\u001b[0m\u001b[0minput\u001b[0m\u001b[0;34m,\u001b[0m \u001b[0mself\u001b[0m\u001b[0;34m.\u001b[0m\u001b[0mall_weights\u001b[0m\u001b[0;34m,\u001b[0m \u001b[0mhx\u001b[0m\u001b[0;34m,\u001b[0m \u001b[0mbatch_sizes\u001b[0m\u001b[0;34m)\u001b[0m\u001b[0;34m\u001b[0m\u001b[0m\n\u001b[0m\u001b[1;32m    193\u001b[0m         \u001b[0;32mif\u001b[0m \u001b[0mis_packed\u001b[0m\u001b[0;34m:\u001b[0m\u001b[0;34m\u001b[0m\u001b[0m\n\u001b[1;32m    194\u001b[0m             \u001b[0moutput\u001b[0m \u001b[0;34m=\u001b[0m \u001b[0mPackedSequence\u001b[0m\u001b[0;34m(\u001b[0m\u001b[0moutput\u001b[0m\u001b[0;34m,\u001b[0m \u001b[0mbatch_sizes\u001b[0m\u001b[0;34m)\u001b[0m\u001b[0;34m\u001b[0m\u001b[0m\n",
      "\u001b[0;32m/Library/Frameworks/Python.framework/Versions/3.7/lib/python3.7/site-packages/torch/nn/_functions/rnn.py\u001b[0m in \u001b[0;36mforward\u001b[0;34m(input, *fargs, **fkwargs)\u001b[0m\n\u001b[1;32m    322\u001b[0m             \u001b[0mfunc\u001b[0m \u001b[0;34m=\u001b[0m \u001b[0mdecorator\u001b[0m\u001b[0;34m(\u001b[0m\u001b[0mfunc\u001b[0m\u001b[0;34m)\u001b[0m\u001b[0;34m\u001b[0m\u001b[0m\n\u001b[1;32m    323\u001b[0m \u001b[0;34m\u001b[0m\u001b[0m\n\u001b[0;32m--> 324\u001b[0;31m         \u001b[0;32mreturn\u001b[0m \u001b[0mfunc\u001b[0m\u001b[0;34m(\u001b[0m\u001b[0minput\u001b[0m\u001b[0;34m,\u001b[0m \u001b[0;34m*\u001b[0m\u001b[0mfargs\u001b[0m\u001b[0;34m,\u001b[0m \u001b[0;34m**\u001b[0m\u001b[0mfkwargs\u001b[0m\u001b[0;34m)\u001b[0m\u001b[0;34m\u001b[0m\u001b[0m\n\u001b[0m\u001b[1;32m    325\u001b[0m \u001b[0;34m\u001b[0m\u001b[0m\n\u001b[1;32m    326\u001b[0m     \u001b[0;32mreturn\u001b[0m \u001b[0mforward\u001b[0m\u001b[0;34m\u001b[0m\u001b[0m\n",
      "\u001b[0;32m/Library/Frameworks/Python.framework/Versions/3.7/lib/python3.7/site-packages/torch/nn/_functions/rnn.py\u001b[0m in \u001b[0;36mforward\u001b[0;34m(input, weight, hidden, batch_sizes)\u001b[0m\n\u001b[1;32m    242\u001b[0m             \u001b[0minput\u001b[0m \u001b[0;34m=\u001b[0m \u001b[0minput\u001b[0m\u001b[0;34m.\u001b[0m\u001b[0mtranspose\u001b[0m\u001b[0;34m(\u001b[0m\u001b[0;36m0\u001b[0m\u001b[0;34m,\u001b[0m \u001b[0;36m1\u001b[0m\u001b[0;34m)\u001b[0m\u001b[0;34m\u001b[0m\u001b[0m\n\u001b[1;32m    243\u001b[0m \u001b[0;34m\u001b[0m\u001b[0m\n\u001b[0;32m--> 244\u001b[0;31m         \u001b[0mnexth\u001b[0m\u001b[0;34m,\u001b[0m \u001b[0moutput\u001b[0m \u001b[0;34m=\u001b[0m \u001b[0mfunc\u001b[0m\u001b[0;34m(\u001b[0m\u001b[0minput\u001b[0m\u001b[0;34m,\u001b[0m \u001b[0mhidden\u001b[0m\u001b[0;34m,\u001b[0m \u001b[0mweight\u001b[0m\u001b[0;34m,\u001b[0m \u001b[0mbatch_sizes\u001b[0m\u001b[0;34m)\u001b[0m\u001b[0;34m\u001b[0m\u001b[0m\n\u001b[0m\u001b[1;32m    245\u001b[0m \u001b[0;34m\u001b[0m\u001b[0m\n\u001b[1;32m    246\u001b[0m         \u001b[0;32mif\u001b[0m \u001b[0mbatch_first\u001b[0m \u001b[0;32mand\u001b[0m \u001b[0;32mnot\u001b[0m \u001b[0mvariable_length\u001b[0m\u001b[0;34m:\u001b[0m\u001b[0;34m\u001b[0m\u001b[0m\n",
      "\u001b[0;32m/Library/Frameworks/Python.framework/Versions/3.7/lib/python3.7/site-packages/torch/nn/_functions/rnn.py\u001b[0m in \u001b[0;36mforward\u001b[0;34m(input, hidden, weight, batch_sizes)\u001b[0m\n\u001b[1;32m     85\u001b[0m                 \u001b[0ml\u001b[0m \u001b[0;34m=\u001b[0m \u001b[0mi\u001b[0m \u001b[0;34m*\u001b[0m \u001b[0mnum_directions\u001b[0m \u001b[0;34m+\u001b[0m \u001b[0mj\u001b[0m\u001b[0;34m\u001b[0m\u001b[0m\n\u001b[1;32m     86\u001b[0m \u001b[0;34m\u001b[0m\u001b[0m\n\u001b[0;32m---> 87\u001b[0;31m                 \u001b[0mhy\u001b[0m\u001b[0;34m,\u001b[0m \u001b[0moutput\u001b[0m \u001b[0;34m=\u001b[0m \u001b[0minner\u001b[0m\u001b[0;34m(\u001b[0m\u001b[0minput\u001b[0m\u001b[0;34m,\u001b[0m \u001b[0mhidden\u001b[0m\u001b[0;34m[\u001b[0m\u001b[0ml\u001b[0m\u001b[0;34m]\u001b[0m\u001b[0;34m,\u001b[0m \u001b[0mweight\u001b[0m\u001b[0;34m[\u001b[0m\u001b[0ml\u001b[0m\u001b[0;34m]\u001b[0m\u001b[0;34m,\u001b[0m \u001b[0mbatch_sizes\u001b[0m\u001b[0;34m)\u001b[0m\u001b[0;34m\u001b[0m\u001b[0m\n\u001b[0m\u001b[1;32m     88\u001b[0m                 \u001b[0mnext_hidden\u001b[0m\u001b[0;34m.\u001b[0m\u001b[0mappend\u001b[0m\u001b[0;34m(\u001b[0m\u001b[0mhy\u001b[0m\u001b[0;34m)\u001b[0m\u001b[0;34m\u001b[0m\u001b[0m\n\u001b[1;32m     89\u001b[0m                 \u001b[0mall_output\u001b[0m\u001b[0;34m.\u001b[0m\u001b[0mappend\u001b[0m\u001b[0;34m(\u001b[0m\u001b[0moutput\u001b[0m\u001b[0;34m)\u001b[0m\u001b[0;34m\u001b[0m\u001b[0m\n",
      "\u001b[0;32m/Library/Frameworks/Python.framework/Versions/3.7/lib/python3.7/site-packages/torch/nn/_functions/rnn.py\u001b[0m in \u001b[0;36mforward\u001b[0;34m(input, hidden, weight, batch_sizes)\u001b[0m\n\u001b[1;32m    157\u001b[0m                 \u001b[0mhidden\u001b[0m \u001b[0;34m=\u001b[0m \u001b[0;34m(\u001b[0m\u001b[0minner\u001b[0m\u001b[0;34m(\u001b[0m\u001b[0mstep_input\u001b[0m\u001b[0;34m,\u001b[0m \u001b[0mhidden\u001b[0m\u001b[0;34m[\u001b[0m\u001b[0;36m0\u001b[0m\u001b[0;34m]\u001b[0m\u001b[0;34m,\u001b[0m \u001b[0;34m*\u001b[0m\u001b[0mweight\u001b[0m\u001b[0;34m)\u001b[0m\u001b[0;34m,\u001b[0m\u001b[0;34m)\u001b[0m\u001b[0;34m\u001b[0m\u001b[0m\n\u001b[1;32m    158\u001b[0m             \u001b[0;32melse\u001b[0m\u001b[0;34m:\u001b[0m\u001b[0;34m\u001b[0m\u001b[0m\n\u001b[0;32m--> 159\u001b[0;31m                 \u001b[0mhidden\u001b[0m \u001b[0;34m=\u001b[0m \u001b[0minner\u001b[0m\u001b[0;34m(\u001b[0m\u001b[0mstep_input\u001b[0m\u001b[0;34m,\u001b[0m \u001b[0mhidden\u001b[0m\u001b[0;34m,\u001b[0m \u001b[0;34m*\u001b[0m\u001b[0mweight\u001b[0m\u001b[0;34m)\u001b[0m\u001b[0;34m\u001b[0m\u001b[0m\n\u001b[0m\u001b[1;32m    160\u001b[0m \u001b[0;34m\u001b[0m\u001b[0m\n\u001b[1;32m    161\u001b[0m             \u001b[0moutput\u001b[0m\u001b[0;34m.\u001b[0m\u001b[0mappend\u001b[0m\u001b[0;34m(\u001b[0m\u001b[0mhidden\u001b[0m\u001b[0;34m[\u001b[0m\u001b[0;36m0\u001b[0m\u001b[0;34m]\u001b[0m\u001b[0;34m)\u001b[0m\u001b[0;34m\u001b[0m\u001b[0m\n",
      "\u001b[0;32m/Library/Frameworks/Python.framework/Versions/3.7/lib/python3.7/site-packages/torch/nn/_functions/rnn.py\u001b[0m in \u001b[0;36mLSTMCell\u001b[0;34m(input, hidden, w_ih, w_hh, b_ih, b_hh)\u001b[0m\n\u001b[1;32m     32\u001b[0m \u001b[0;34m\u001b[0m\u001b[0m\n\u001b[1;32m     33\u001b[0m     \u001b[0mhx\u001b[0m\u001b[0;34m,\u001b[0m \u001b[0mcx\u001b[0m \u001b[0;34m=\u001b[0m \u001b[0mhidden\u001b[0m\u001b[0;34m\u001b[0m\u001b[0m\n\u001b[0;32m---> 34\u001b[0;31m     \u001b[0mgates\u001b[0m \u001b[0;34m=\u001b[0m \u001b[0mF\u001b[0m\u001b[0;34m.\u001b[0m\u001b[0mlinear\u001b[0m\u001b[0;34m(\u001b[0m\u001b[0minput\u001b[0m\u001b[0;34m,\u001b[0m \u001b[0mw_ih\u001b[0m\u001b[0;34m,\u001b[0m \u001b[0mb_ih\u001b[0m\u001b[0;34m)\u001b[0m \u001b[0;34m+\u001b[0m \u001b[0mF\u001b[0m\u001b[0;34m.\u001b[0m\u001b[0mlinear\u001b[0m\u001b[0;34m(\u001b[0m\u001b[0mhx\u001b[0m\u001b[0;34m,\u001b[0m \u001b[0mw_hh\u001b[0m\u001b[0;34m,\u001b[0m \u001b[0mb_hh\u001b[0m\u001b[0;34m)\u001b[0m\u001b[0;34m\u001b[0m\u001b[0m\n\u001b[0m\u001b[1;32m     35\u001b[0m \u001b[0;34m\u001b[0m\u001b[0m\n\u001b[1;32m     36\u001b[0m     \u001b[0mingate\u001b[0m\u001b[0;34m,\u001b[0m \u001b[0mforgetgate\u001b[0m\u001b[0;34m,\u001b[0m \u001b[0mcellgate\u001b[0m\u001b[0;34m,\u001b[0m \u001b[0moutgate\u001b[0m \u001b[0;34m=\u001b[0m \u001b[0mgates\u001b[0m\u001b[0;34m.\u001b[0m\u001b[0mchunk\u001b[0m\u001b[0;34m(\u001b[0m\u001b[0;36m4\u001b[0m\u001b[0;34m,\u001b[0m \u001b[0;36m1\u001b[0m\u001b[0;34m)\u001b[0m\u001b[0;34m\u001b[0m\u001b[0m\n",
      "\u001b[0;32m/Library/Frameworks/Python.framework/Versions/3.7/lib/python3.7/site-packages/torch/nn/functional.py\u001b[0m in \u001b[0;36mlinear\u001b[0;34m(input, weight, bias)\u001b[0m\n\u001b[1;32m   1022\u001b[0m     \u001b[0;32mif\u001b[0m \u001b[0minput\u001b[0m\u001b[0;34m.\u001b[0m\u001b[0mdim\u001b[0m\u001b[0;34m(\u001b[0m\u001b[0;34m)\u001b[0m \u001b[0;34m==\u001b[0m \u001b[0;36m2\u001b[0m \u001b[0;32mand\u001b[0m \u001b[0mbias\u001b[0m \u001b[0;32mis\u001b[0m \u001b[0;32mnot\u001b[0m \u001b[0;32mNone\u001b[0m\u001b[0;34m:\u001b[0m\u001b[0;34m\u001b[0m\u001b[0m\n\u001b[1;32m   1023\u001b[0m         \u001b[0;31m# fused op is marginally faster\u001b[0m\u001b[0;34m\u001b[0m\u001b[0;34m\u001b[0m\u001b[0m\n\u001b[0;32m-> 1024\u001b[0;31m         \u001b[0;32mreturn\u001b[0m \u001b[0mtorch\u001b[0m\u001b[0;34m.\u001b[0m\u001b[0maddmm\u001b[0m\u001b[0;34m(\u001b[0m\u001b[0mbias\u001b[0m\u001b[0;34m,\u001b[0m \u001b[0minput\u001b[0m\u001b[0;34m,\u001b[0m \u001b[0mweight\u001b[0m\u001b[0;34m.\u001b[0m\u001b[0mt\u001b[0m\u001b[0;34m(\u001b[0m\u001b[0;34m)\u001b[0m\u001b[0;34m)\u001b[0m\u001b[0;34m\u001b[0m\u001b[0m\n\u001b[0m\u001b[1;32m   1025\u001b[0m \u001b[0;34m\u001b[0m\u001b[0m\n\u001b[1;32m   1026\u001b[0m     \u001b[0moutput\u001b[0m \u001b[0;34m=\u001b[0m \u001b[0minput\u001b[0m\u001b[0;34m.\u001b[0m\u001b[0mmatmul\u001b[0m\u001b[0;34m(\u001b[0m\u001b[0mweight\u001b[0m\u001b[0;34m.\u001b[0m\u001b[0mt\u001b[0m\u001b[0;34m(\u001b[0m\u001b[0;34m)\u001b[0m\u001b[0;34m)\u001b[0m\u001b[0;34m\u001b[0m\u001b[0m\n",
      "\u001b[0;31mKeyboardInterrupt\u001b[0m: "
     ]
    }
   ],
   "source": [
    "questions = ['when was stony brook university established?', 'who is largest employer in long island?', 'How many employees does university have?', 'when did stony brook university launched bike share system?']\n",
    "correctAns = [\"History\",'Introduction','Introduction',\"Transportation\"]\n",
    "for que in questions:\n",
    "    dists = []\n",
    "    maxK,maxV = None,None\n",
    "    for k,vs in dataEmbeddings.items():\n",
    "        print(len(vs))\n",
    "        for v in vs:\n",
    "            dists.append(cosine(model.encode(que)[0], v))\n",
    "\n",
    "        currv=reduce(lambda x, y: x + y, dists) / len(dists)\n",
    "        print(currV)\n",
    "        if not maxV or currV > maxV:\n",
    "            maxK = k\n",
    "            maxV = currV\n",
    "    \n",
    "    print(maxK)\n",
    "\n"
   ]
  },
  {
   "cell_type": "markdown",
   "metadata": {},
   "source": [
    "## Visualization"
   ]
  },
  {
   "cell_type": "code",
   "execution_count": 25,
   "metadata": {},
   "outputs": [
    {
     "data": {
      "text/plain": [
       "3.5349097"
      ]
     },
     "execution_count": 25,
     "metadata": {},
     "output_type": "execute_result"
    }
   ],
   "source": [
    "np.linalg.norm(model.encode(['the cat eats.']))"
   ]
  },
  {
   "cell_type": "code",
   "execution_count": 33,
   "metadata": {},
   "outputs": [],
   "source": []
  },
  {
   "cell_type": "code",
   "execution_count": 44,
   "metadata": {},
   "outputs": [
    {
     "name": "stdout",
     "output_type": "stream",
     "text": [
      "The institution was founded 61 years ago :::: when was stony brook university founded? 0.7268302\n",
      "The institution was founded 61 years ago :::: who is largest employer in long island. 0.7268302\n",
      "The university has expanded to include a :::: when was stony brook university founded? 0.7268302\n",
      "The university has expanded to include a :::: who is largest employer in long island. 0.7268302\n",
      "In 2001, Stony Brook was elected to the  :::: when was stony brook university founded? 0.61090493\n",
      "In 2001, Stony Brook was elected to the  :::: who is largest employer in long island. 0.61090493\n",
      "It is also a member of the larger Univer :::: when was stony brook university founded? 0.61090493\n",
      "It is also a member of the larger Univer :::: who is largest employer in long island. 0.61090493\n",
      "Stony Brook is the largest single-site e :::: when was stony brook university founded? 0.7111972\n",
      "Stony Brook is the largest single-site e :::: who is largest employer in long island. 0.7111972\n",
      "jgfgfghj hf  :::: when was stony brook university founded? 0.7403961\n",
      "jgfgfghj hf  :::: who is largest employer in long island. 0.7403961\n",
      "ffd dfgf :::: when was stony brook university founded? 0.72726864\n",
      "ffd dfgf :::: who is largest employer in long island. 0.72726864\n"
     ]
    }
   ],
   "source": [
    "for sent in sentences:\n",
    "    for que in questions:\n",
    "        print(sent[:40],'::::', que[:40], cosine(model.encode(sent)[0], model.encode(que)[0]))\n",
    "        "
   ]
  },
  {
   "cell_type": "code",
   "execution_count": null,
   "metadata": {},
   "outputs": [],
   "source": []
  }
 ],
 "metadata": {
  "anaconda-cloud": {},
  "kernelspec": {
   "display_name": "Python 3",
   "language": "python",
   "name": "python3"
  },
  "language_info": {
   "codemirror_mode": {
    "name": "ipython",
    "version": 3
   },
   "file_extension": ".py",
   "mimetype": "text/x-python",
   "name": "python",
   "nbconvert_exporter": "python",
   "pygments_lexer": "ipython3",
   "version": "3.7.0"
  }
 },
 "nbformat": 4,
 "nbformat_minor": 1
}
